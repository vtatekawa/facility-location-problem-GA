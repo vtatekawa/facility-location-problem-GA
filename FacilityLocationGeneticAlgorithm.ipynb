{
 "cells": [
  {
   "cell_type": "markdown",
   "metadata": {},
   "source": [
    "### Algoritmo Genético para o Problema de Localização de Centros de Distribuição\n",
    "Este notebook implementa um algoritmo genético para resolver o problema de localização de centros de distribuição (Facility Location Problem). O objetivo é selecionar o melhor centro de distribuição que minimize os custos totais de transporte enquanto atende a demanda de todos os clientes, considerando as distâncias reais entre os locais.\n"
   ]
  },
  {
   "cell_type": "markdown",
   "metadata": {},
   "source": [
    "#### Importando Bibliotecas e Carregando os Dados\n",
    "Nesta seção, importamos as bibliotecas necessárias e carregamos os dados dos clientes, centros de distribuição e custos unitários de transporte."
   ]
  },
  {
   "cell_type": "code",
   "execution_count": 3,
   "metadata": {},
   "outputs": [],
   "source": [
    "import numpy as np\n",
    "import pandas as pd\n",
    "import random\n",
    "from geopy.distance import geodesic\n",
    "\n",
    "# Carregar os dados dos arquivos anexados\n",
    "clients_df = pd.read_excel('input/clients.xlsx')\n",
    "facilities_df = pd.read_excel('input/facilities.xlsx')\n",
    "transport_cost_df = pd.read_excel('input/unit_transport_cost.xlsx')"
   ]
  },
  {
   "cell_type": "markdown",
   "metadata": {},
   "source": [
    "#### Pré-processamento dos Dados\n",
    "Extraímos informações essenciais dos dados carregados, como nomes, demandas dos clientes, capacidades dos centros de distribuição e as coordenadas geográficas.\n"
   ]
  },
  {
   "cell_type": "code",
   "execution_count": 2,
   "metadata": {},
   "outputs": [],
   "source": [
    "# Extraindo os nomes das cidades clientes e dos centros de distribuição\n",
    "client_names = clients_df['Nome'].tolist()\n",
    "facility_names = facilities_df['Nome'].tolist()\n",
    "\n",
    "# Extraindo as demandas dos clientes e as capacidades dos centros\n",
    "client_demands = clients_df['Demanda'].values\n",
    "facility_capacities = facilities_df['Capacidade'].values\n",
    "\n",
    "# Extraindo as coordenadas dos clientes e centros\n",
    "client_coords = list(zip(clients_df['Latitude'], clients_df['Longitude']))\n",
    "facility_coords = list(zip(facilities_df['Latitude'], facilities_df['Longitude']))\n",
    "\n",
    "# Extraindo os custos unitários de transporte por km\n",
    "unit_transport_costs = transport_cost_df[client_names].values\n",
    "\n",
    "# Atualizando os parâmetros do algoritmo com base nos dados fornecidos\n",
    "num_facilities = len(facility_names)\n",
    "num_clients = len(client_names)"
   ]
  },
  {
   "cell_type": "markdown",
   "metadata": {},
   "source": [
    "#### Definição dos Parâmetros do Algoritmo Genético\n",
    "Definimos os parâmetros para o algoritmo genético, incluindo o tamanho da população, o número de gerações, e as taxas de cruzamento e mutação."
   ]
  },
  {
   "cell_type": "code",
   "execution_count": 3,
   "metadata": {},
   "outputs": [],
   "source": [
    "# Parâmetros do Algoritmo Genético\n",
    "population_size = 50  # Tamanho da população\n",
    "num_generations = 300  # Número de gerações\n",
    "crossover_rate = 0.8  # Taxa de cruzamento\n",
    "mutation_rate = 0.1  # Taxa de mutação"
   ]
  },
  {
   "cell_type": "markdown",
   "metadata": {},
   "source": [
    "#### Função de Aptidão com Distâncias Reais\n",
    "A função de aptidão é responsável por avaliar o custo total de uma solução, penalizando soluções inviáveis, como a seleção de mais de um centro de distribuição ou a ultrapassagem da capacidade. Utiliza distâncias reais entre clientes e centros de distribuição."
   ]
  },
  {
   "cell_type": "code",
   "execution_count": 4,
   "metadata": {},
   "outputs": [],
   "source": [
    "def calculate_fitness(solution):\n",
    "    total_cost = 0\n",
    "    capacity_used = np.zeros(num_facilities)\n",
    "    for client_idx, demand in enumerate(client_demands):\n",
    "        # Calculando a distância real para cada centro de distribuição disponível\n",
    "        distances = [geodesic(facility_coords[facility_idx], client_coords[client_idx]).km\n",
    "                     for facility_idx in range(num_facilities)]\n",
    "        # Encontrando o centro de distribuição com menor custo total (distância * custo unitário)\n",
    "        serving_facility_idx = np.argmin(np.array(distances) * unit_transport_costs[:, client_idx] * solution)\n",
    "        total_cost += distances[serving_facility_idx] * unit_transport_costs[serving_facility_idx, client_idx] * demand\n",
    "        capacity_used[serving_facility_idx] += demand\n",
    "    \n",
    "    # Garantir que apenas um centro de distribuição seja selecionado\n",
    "    if np.sum(solution) != 1:\n",
    "        return float('inf')  # Penalidade infinita se mais de um centro for selecionado\n",
    "\n",
    "    # Penalizar soluções que excedem a capacidade de algum centro\n",
    "    penalty = np.sum((capacity_used - facility_capacities) * (capacity_used > facility_capacities))\n",
    "    if penalty > 0:\n",
    "        return float('inf')  # Penalidade infinita se a capacidade for excedida\n",
    "\n",
    "    return total_cost"
   ]
  },
  {
   "cell_type": "markdown",
   "metadata": {},
   "source": [
    "#### Inicialização da População\n",
    "A população inicial é gerada aleatoriamente, garantindo que cada solução inicial selecione pelo menos um centro de distribuição."
   ]
  },
  {
   "cell_type": "code",
   "execution_count": 5,
   "metadata": {},
   "outputs": [],
   "source": [
    "def initialize_population():\n",
    "    population = []\n",
    "    for _ in range(population_size):\n",
    "        solution = np.random.choice([0, 1], size=num_facilities)\n",
    "        while np.sum(solution) == 0:  # Assegura que pelo menos um centro seja selecionado\n",
    "            solution = np.random.choice([0, 1], size=num_facilities)\n",
    "        population.append(solution)\n",
    "    return population"
   ]
  },
  {
   "cell_type": "markdown",
   "metadata": {},
   "source": [
    "#### Função de Seleção por Torneio\n",
    "Seleciona os melhores indivíduos da população para gerar a próxima geração com base na sua aptidão."
   ]
  },
  {
   "cell_type": "code",
   "execution_count": 6,
   "metadata": {},
   "outputs": [],
   "source": [
    "def selection(population, fitness_values):\n",
    "    tournament_size = 3\n",
    "    selected = []\n",
    "    for _ in range(population_size):\n",
    "        participants = random.sample(list(zip(population, fitness_values)), tournament_size)\n",
    "        winner = min(participants, key=lambda x: x[1])\n",
    "        selected.append(winner[0])\n",
    "    return selected"
   ]
  },
  {
   "cell_type": "markdown",
   "metadata": {},
   "source": [
    "#### Operadores Genéticos: Cruzamento e Mutação\n",
    "Estas funções aplicam operações de cruzamento e mutação para gerar novas soluções."
   ]
  },
  {
   "cell_type": "code",
   "execution_count": 7,
   "metadata": {},
   "outputs": [],
   "source": [
    "def crossover(parent1, parent2):\n",
    "    if random.random() < crossover_rate:\n",
    "        point = random.randint(1, num_facilities - 1)\n",
    "        child1 = np.concatenate((parent1[:point], parent2[point:]))\n",
    "        child2 = np.concatenate((parent2[:point], parent1[point:]))\n",
    "        return child1, child2\n",
    "    return parent1, parent2\n",
    "\n",
    "def mutate(solution):\n",
    "    for i in range(num_facilities):\n",
    "        if random.random() < mutation_rate:\n",
    "            solution[i] = 1 - solution[i]  # Inverte o gene\n",
    "    return solution"
   ]
  },
  {
   "cell_type": "markdown",
   "metadata": {},
   "source": [
    "#### Execução do Algoritmo Genético\n",
    "Esta célula executa o algoritmo genético por um número especificado de gerações para encontrar a melhor solução."
   ]
  },
  {
   "cell_type": "code",
   "execution_count": 8,
   "metadata": {},
   "outputs": [
    {
     "name": "stdout",
     "output_type": "stream",
     "text": [
      "Centro de Distribuição Selecionado: ['São Paulo']\n",
      "Melhor solução: [1 0 0 0 0]\n",
      "Custo total: 44679279.56648781\n"
     ]
    }
   ],
   "source": [
    "def run_genetic_algorithm():\n",
    "    population = initialize_population()\n",
    "    for generation in range(num_generations):\n",
    "        fitness_values = [calculate_fitness(ind) for ind in population]\n",
    "        population = selection(population, fitness_values)\n",
    "        next_generation = []\n",
    "        for i in range(0, population_size, 2):\n",
    "            parent1 = population[i]\n",
    "            parent2 = population[i + 1]\n",
    "            child1, child2 = crossover(parent1, parent2)\n",
    "            next_generation.append(mutate(child1))\n",
    "            next_generation.append(mutate(child2))\n",
    "        population = next_generation\n",
    "    \n",
    "    # Melhor solução encontrada\n",
    "    fitness_values = [calculate_fitness(ind) for ind in population]\n",
    "    best_solution = population[np.argmin(fitness_values)]\n",
    "    best_fitness = min(fitness_values)\n",
    "    return best_solution, best_fitness\n",
    "\n",
    "# Execução do algoritmo ajustado\n",
    "best_solution, best_fitness = run_genetic_algorithm()\n",
    "\n",
    "# Coordenadas do centro de distribuição selecionado\n",
    "selected_facility_idx = np.array(np.where(best_solution == 1)[0])\n",
    "selected_facility_coords = np.array(facility_coords)[selected_facility_idx]\n",
    "\n",
    "\n",
    "# Exibindo o resultado final com nome do centro e detalhes dos custos\n",
    "selected_facility_name = np.array(facility_names)[selected_facility_idx]\n",
    "\n",
    "print(f\"Centro de Distribuição Selecionado: {selected_facility_name}\")\n",
    "print(f\"Melhor solução: {best_solution}\")\n",
    "print(f\"Custo total: {best_fitness}\")"
   ]
  },
  {
   "cell_type": "markdown",
   "metadata": {},
   "source": [
    "#### Output em Dataframe\n",
    "Esta celula monta o dataframe de saida, demonstrando os destinos, demanda, distância, origem e custo."
   ]
  },
  {
   "cell_type": "code",
   "execution_count": 10,
   "metadata": {},
   "outputs": [
    {
     "data": {
      "text/html": [
       "<div>\n",
       "<style scoped>\n",
       "    .dataframe tbody tr th:only-of-type {\n",
       "        vertical-align: middle;\n",
       "    }\n",
       "\n",
       "    .dataframe tbody tr th {\n",
       "        vertical-align: top;\n",
       "    }\n",
       "\n",
       "    .dataframe thead th {\n",
       "        text-align: right;\n",
       "    }\n",
       "</style>\n",
       "<table border=\"1\" class=\"dataframe\">\n",
       "  <thead>\n",
       "    <tr style=\"text-align: right;\">\n",
       "      <th></th>\n",
       "      <th>Cliente</th>\n",
       "      <th>Demanda</th>\n",
       "      <th>Distância do Centro Selecionado (km)</th>\n",
       "      <th>Origem</th>\n",
       "      <th>Custo</th>\n",
       "    </tr>\n",
       "  </thead>\n",
       "  <tbody>\n",
       "    <tr>\n",
       "      <th>0</th>\n",
       "      <td>Porto Alegre</td>\n",
       "      <td>553</td>\n",
       "      <td>850.62</td>\n",
       "      <td>São Paulo</td>\n",
       "      <td>82396.18</td>\n",
       "    </tr>\n",
       "    <tr>\n",
       "      <th>1</th>\n",
       "      <td>Brasília</td>\n",
       "      <td>2767</td>\n",
       "      <td>870.84</td>\n",
       "      <td>São Paulo</td>\n",
       "      <td>977140.17</td>\n",
       "    </tr>\n",
       "    <tr>\n",
       "      <th>2</th>\n",
       "      <td>Curitiba</td>\n",
       "      <td>4675</td>\n",
       "      <td>338.83</td>\n",
       "      <td>São Paulo</td>\n",
       "      <td>697391.64</td>\n",
       "    </tr>\n",
       "    <tr>\n",
       "      <th>3</th>\n",
       "      <td>Recife</td>\n",
       "      <td>7743</td>\n",
       "      <td>2125.42</td>\n",
       "      <td>São Paulo</td>\n",
       "      <td>5326427.36</td>\n",
       "    </tr>\n",
       "    <tr>\n",
       "      <th>4</th>\n",
       "      <td>Goiânia</td>\n",
       "      <td>8680</td>\n",
       "      <td>808.54</td>\n",
       "      <td>São Paulo</td>\n",
       "      <td>1934469.81</td>\n",
       "    </tr>\n",
       "  </tbody>\n",
       "</table>\n",
       "</div>"
      ],
      "text/plain": [
       "        Cliente  Demanda  Distância do Centro Selecionado (km)     Origem  \\\n",
       "0  Porto Alegre      553                                850.62  São Paulo   \n",
       "1      Brasília     2767                                870.84  São Paulo   \n",
       "2      Curitiba     4675                                338.83  São Paulo   \n",
       "3        Recife     7743                               2125.42  São Paulo   \n",
       "4       Goiânia     8680                                808.54  São Paulo   \n",
       "\n",
       "        Custo  \n",
       "0    82396.18  \n",
       "1   977140.17  \n",
       "2   697391.64  \n",
       "3  5326427.36  \n",
       "4  1934469.81  "
      ]
     },
     "execution_count": 10,
     "metadata": {},
     "output_type": "execute_result"
    }
   ],
   "source": [
    "# Calculando as distâncias geográficas reais para cada cliente em relação aos centros selecionados\n",
    "selected_facility_indices = np.where(best_solution == 1)[0]\n",
    "distances = []\n",
    "costs = []\n",
    "origins = []\n",
    "\n",
    "for client_idx, client_coord in enumerate(client_coords):\n",
    "    client_distances = []\n",
    "    client_costs = []\n",
    "    client_origins = []\n",
    "    \n",
    "    for facility_idx in selected_facility_indices:\n",
    "        distance = geodesic(facility_coords[facility_idx], client_coord).km\n",
    "        cost = distance * unit_transport_costs[facility_idx, client_idx] * client_demands[client_idx]\n",
    "        \n",
    "        client_distances.append(distance)\n",
    "        client_costs.append(cost)\n",
    "        client_origins.append(facility_names[facility_idx])\n",
    "    \n",
    "    # Escolhendo a origem com o menor custo para cada cliente\n",
    "    min_cost_idx = np.argmin(client_costs)\n",
    "    distances.append(client_distances[min_cost_idx])\n",
    "    costs.append(client_costs[min_cost_idx])\n",
    "    origins.append(client_origins[min_cost_idx])\n",
    "\n",
    "# Criando o DataFrame final com distâncias geográficas reais e custos\n",
    "final_df = pd.DataFrame({\n",
    "    'Cliente': client_names,\n",
    "    'Demanda': client_demands,\n",
    "    'Distância do Centro Selecionado (km)': np.round(distances, 2),\n",
    "    'Origem': origins,\n",
    "    'Custo': np.round(costs, 2)\n",
    "})\n",
    "\n",
    "final_df.to_excel('output/resultados.xlsx', index=False)\n",
    "\n",
    "final_df.head()"
   ]
  }
 ],
 "metadata": {
  "kernelspec": {
   "display_name": ".venv",
   "language": "python",
   "name": "python3"
  },
  "language_info": {
   "codemirror_mode": {
    "name": "ipython",
    "version": 3
   },
   "file_extension": ".py",
   "mimetype": "text/x-python",
   "name": "python",
   "nbconvert_exporter": "python",
   "pygments_lexer": "ipython3",
   "version": "3.12.7"
  }
 },
 "nbformat": 4,
 "nbformat_minor": 2
}
